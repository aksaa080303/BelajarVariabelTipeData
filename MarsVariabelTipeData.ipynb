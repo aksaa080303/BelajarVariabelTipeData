{
 "cells": [
  {
   "cell_type": "markdown",
   "id": "fbf24efd",
   "metadata": {},
   "source": [
    "<H1> Belajar python<h1><hr>\n",
    "    <font colour=\"green\">Beberapa Aturan</font> membuat<b>python</b>\n",
    "    \n",
    "    "
   ]
  },
  {
   "cell_type": "markdown",
   "id": "266b6d5f",
   "metadata": {},
   "source": [
    "<ol>\n",
    "    <li>bersifat case sensitif => A != a</li>\n",
    "    <li>harus diawali dengan huruf atau karakter _(underscore)</li>\n",
    "    <li>Tidak boleh menggunakan spasi</li>\n",
    "    <li>Harus Rajin belajar</li>\n",
    "    <li>Chipi Chapa Chipi Chipu</li>\n",
    "</ol>"
   ]
  },
  {
   "cell_type": "code",
   "execution_count": 3,
   "id": "0325640e",
   "metadata": {},
   "outputs": [
    {
     "name": "stdout",
     "output_type": "stream",
     "text": [
      "1\n",
      "100.9\n",
      "True\n",
      "10\n"
     ]
    }
   ],
   "source": [
    "data_int = 10\n",
    "data_float = 100.9\n",
    "data_string = '1'\n",
    "data_boolean = True\n",
    "\n",
    "print(data_string)\n",
    "print(data_float)\n",
    "print(data_boolean)\n",
    "print(data_int)\n"
   ]
  },
  {
   "cell_type": "markdown",
   "id": "78fb8f09",
   "metadata": {},
   "source": [
    "untuk mengetahui tipe data dari sebuah variabel gunakan command <b>type</b>"
   ]
  },
  {
   "cell_type": "code",
   "execution_count": 7,
   "id": "19e09bbb",
   "metadata": {},
   "outputs": [
    {
     "name": "stdout",
     "output_type": "stream",
     "text": [
      "<class 'int'>\n",
      "<class 'float'>\n",
      "<class 'bool'>\n",
      "<class 'str'>\n"
     ]
    }
   ],
   "source": [
    "print(type(data_int))\n",
    "print(type(data_float))\n",
    "print(type(data_boolean))\n",
    "print(type(data_string))"
   ]
  },
  {
   "cell_type": "markdown",
   "id": "b96ccc8f",
   "metadata": {},
   "source": [
    "Pada python terdapat proses <b>CASTING</b>konversi dari sebuah tipe data ke tipe data yang lain yaitu dengan sintaks<b> tipe_data(nama_variabel)</b>"
   ]
  },
  {
   "cell_type": "code",
   "execution_count": 37,
   "id": "d4bf7f7f",
   "metadata": {},
   "outputs": [
    {
     "name": "stdout",
     "output_type": "stream",
     "text": [
      "Nilai variabel data_float= 100.9\n",
      "10\n",
      "True\n"
     ]
    }
   ],
   "source": [
    "int_to_float = float(data_int)\n",
    "int_to_string = str(data_int)\n",
    "int_to_bool = bool(data_int)\n",
    "\n",
    "print(\"Nilai variabel data_float=\",data_float)\n",
    "print(int_to_string)\n",
    "print(int_to_bool)"
   ]
  },
  {
   "cell_type": "code",
   "execution_count": 49,
   "id": "bacc9b28",
   "metadata": {},
   "outputs": [
    {
     "name": "stdout",
     "output_type": "stream",
     "text": [
      "isikan bilangan : 110\n",
      "isikan bilangan : 28\n",
      "hasil penjumlahan 18\n",
      "hasil pembagian 1.25\n",
      "18 1.25\n"
     ]
    }
   ],
   "source": [
    "bil1 = int(input(\"isikan bilangan : 1\"))\n",
    "bil2 = int(input(\"isikan bilangan : 2\"))\n",
    "hasil_tambah = bil1 + bil2\n",
    "hasil_bagi = bil1 / bil2\n",
    "\n",
    "\n",
    "print(\"hasil penjumlahan\", hasil_tambah)\n",
    "print(\"hasil pembagian\", hasil_bagi)\n",
    "print(hasil_tambah,hasil_bagi)"
   ]
  },
  {
   "cell_type": "code",
   "execution_count": null,
   "id": "7a34c705",
   "metadata": {},
   "outputs": [],
   "source": []
  }
 ],
 "metadata": {
  "kernelspec": {
   "display_name": "Python 3 (ipykernel)",
   "language": "python",
   "name": "python3"
  },
  "language_info": {
   "codemirror_mode": {
    "name": "ipython",
    "version": 3
   },
   "file_extension": ".py",
   "mimetype": "text/x-python",
   "name": "python",
   "nbconvert_exporter": "python",
   "pygments_lexer": "ipython3",
   "version": "3.9.12"
  }
 },
 "nbformat": 4,
 "nbformat_minor": 5
}
